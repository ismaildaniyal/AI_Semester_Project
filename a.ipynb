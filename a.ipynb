import numpy as np
import pandas as pd
from sklearn.cluster import KMeans
import tkinter as tk
from tkinter import ttk, scrolledtext, filedialog

# Simulating Student Data
data = {
    'Student_ID': range(1, 2501),
    'Domain': np.random.choice([0, 1, 2, 3, 4], 2500),  # CS=0, AI=1, BA=2, SE=3, EE=4
    'Batch': np.random.choice([19, 20, 21, 22], 2500)
}
students_df = pd.DataFrame(data)

# K-Means Clustering
kmeans = KMeans(n_clusters=30, random_state=0)
students_df['Cluster'] = kmeans.fit_predict(students_df[['Domain', 'Batch']])

# Simulating Room Capacities
room_capacities = [30] * 25 + [35] * 4 + [25]

# Room Assignment Heuristic
def assign_clusters_to_rooms(df, capacities):
    cluster_counts = df['Cluster'].value_counts().sort_index()
    room_assignments = {}
    room_id = 0
    for cluster, count in cluster_counts.items():
        while count > 0:
            available_capacity = capacities[room_id]
            room_assignments.setdefault(room_id, []).append(cluster)
            count -= available_capacity
            room_id = (room_id + 1) % len(capacities)
    return room_assignments

room_assignments = assign_clusters_to_rooms(students_df, room_capacities)

# Simulating Faculty Data
faculty_data = {
    'Faculty_ID': range(1,31),
    'Expertise_Domain': np.random.choice([0, 1, 2, 3, 4], 30)
}
faculty_df = pd.DataFrame(faculty_data)

# Faculty Assignment to Rooms
def match_faculty_to_rooms(assignments, faculties):
    faculty_assignments = {}
    for room, clusters in assignments.items():
        common_domain = students_df[students_df['Cluster'].isin(clusters)]['Domain'].mode()
        if not common_domain.empty:
            faculty = faculties[faculties['Expertise_Domain'] == common_domain.iloc[0]]
            if not faculty.empty:
                faculty_assignments[room] = faculty.iloc[0]['Faculty_ID']
            else:
                faculty_assignments[room] = "No faculty available for Domain"
        else:
            faculty_assignments[room] = "No common domain found"
    return faculty_assignments

faculty_room_assignments = match_faculty_to_rooms(room_assignments, faculty_df)

# Reporting Function
def generate_report():
    report = "Seating Plan and Faculty Assignments Report\n\n"
    report += "Room Assignments:\n"
    for room, clusters in room_assignments.items():
        report += f"Room {room}: Clusters {clusters}\n"
    report += "\nFaculty Assignments:\n"
    for room, faculty in faculty_room_assignments.items():
        report += f"Room {room}: Faculty ID {faculty}\n"
    return report

# Save Report to File
def save_report():
    report = generate_report()
    file_path = filedialog.asksaveasfilename(defaultextension=".txt", filetypes=[("Text files", ".txt"), ("All files", ".*")])
    if file_path:
        with open(file_path, "w") as file:
            file.write(report)

# Tkinter Application Setup
root = tk.Tk()
root.title("Exam Management System")

# Seating Plan and Faculty Assignment Display
report_text = scrolledtext.ScrolledText(root, width=80, height=20)
report_text.pack()
report_text.insert(tk.INSERT, generate_report())

# Button to Save Report
save_button = ttk.Button(root, text="Save Report", command=save_report)
save_button.pack()

root.mainloop()